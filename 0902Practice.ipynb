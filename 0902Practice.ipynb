{
 "cells": [
  {
   "cell_type": "markdown",
   "metadata": {},
   "source": [
    "### 목록페이지에서 상세페이지 링크 추출"
   ]
  },
  {
   "cell_type": "code",
   "execution_count": 2,
   "metadata": {},
   "outputs": [],
   "source": [
    "import requests\n",
    "import lxml.html"
   ]
  },
  {
   "cell_type": "code",
   "execution_count": 3,
   "metadata": {},
   "outputs": [
    {
     "name": "stdout",
     "output_type": "stream",
     "text": [
      "/store/books/look.php?p_code=B9143267027\n",
      "javascript:;\n",
      "/store/books/look.php?p_code=B9143267027\n",
      "/store/books/look.php?p_code=B3517216657\n",
      "javascript:;\n",
      "/store/books/look.php?p_code=B3517216657\n",
      "/store/books/look.php?p_code=B4872223435\n",
      "javascript:;\n",
      "/store/books/look.php?p_code=B4872223435\n",
      "/store/books/look.php?p_code=B9279330130\n",
      "javascript:;\n",
      "/store/books/look.php?p_code=B9279330130\n",
      "/store/books/look.php?p_code=B6787201225\n",
      "javascript:;\n",
      "/store/books/look.php?p_code=B6787201225\n",
      "/store/books/look.php?p_code=B3963656224\n",
      "javascript:;\n",
      "/store/books/look.php?p_code=B3963656224\n",
      "/store/books/look.php?p_code=B1740090592\n",
      "javascript:;\n",
      "/store/books/look.php?p_code=B1740090592\n",
      "/store/books/look.php?p_code=B2672932319\n",
      "javascript:;\n",
      "/store/books/look.php?p_code=B2672932319\n",
      "/store/books/look.php?p_code=B3872657116\n",
      "javascript:;\n",
      "/store/books/look.php?p_code=B3872657116\n",
      "/store/books/look.php?p_code=B8226621719\n",
      "javascript:;\n",
      "/store/books/look.php?p_code=B8226621719\n",
      "/store/books/look.php?p_code=B9479195027\n",
      "javascript:;\n",
      "/store/books/look.php?p_code=B9479195027\n",
      "/store/books/look.php?p_code=B8945183661\n",
      "javascript:;\n",
      "/store/books/look.php?p_code=B8945183661\n",
      "/store/books/look.php?p_code=B8460934222\n",
      "javascript:;\n",
      "/store/books/look.php?p_code=B8460934222\n",
      "/store/books/look.php?p_code=B1191734987\n",
      "javascript:;\n",
      "/store/books/look.php?p_code=B1191734987\n",
      "/store/books/look.php?p_code=B2082711299\n",
      "javascript:;\n",
      "/store/books/look.php?p_code=B2082711299\n",
      "/store/books/look.php?p_code=B5877288702\n",
      "javascript:;\n",
      "/store/books/look.php?p_code=B5877288702\n",
      "/store/books/look.php?p_code=B1825116777\n",
      "javascript:;\n",
      "/store/books/look.php?p_code=B1825116777\n",
      "/store/books/look.php?p_code=B5937482728\n",
      "javascript:;\n",
      "/store/books/look.php?p_code=B5937482728\n",
      "/store/books/look.php?p_code=B8656803901\n",
      "javascript:;\n",
      "/store/books/look.php?p_code=B8656803901\n",
      "/store/books/look.php?p_code=B3397547488\n",
      "javascript:;\n",
      "/store/books/look.php?p_code=B3397547488\n"
     ]
    }
   ],
   "source": [
    "response = requests.get('http://www.hanbit.co.kr/store/books/new_book_list.html')\n",
    "root = lxml.html.fromstring(response.content)\n",
    "for a in root.cssselect('.view_box a'):\n",
    "    url = a.get('href')\n",
    "    print(url)"
   ]
  },
  {
   "cell_type": "markdown",
   "metadata": {},
   "source": [
    "### url 중 javascript 부분 제거 및 상대 URL을 절대 URL로 변환"
   ]
  },
  {
   "cell_type": "code",
   "execution_count": 15,
   "metadata": {},
   "outputs": [
    {
     "name": "stdout",
     "output_type": "stream",
     "text": [
      "https://www.hanbit.co.kr/store/books/look.php?p_code=B9143267027\n",
      "https://www.hanbit.co.kr/store/books/look.php?p_code=B3517216657\n",
      "https://www.hanbit.co.kr/store/books/look.php?p_code=B4872223435\n",
      "https://www.hanbit.co.kr/store/books/look.php?p_code=B9279330130\n",
      "https://www.hanbit.co.kr/store/books/look.php?p_code=B6787201225\n",
      "https://www.hanbit.co.kr/store/books/look.php?p_code=B3963656224\n",
      "https://www.hanbit.co.kr/store/books/look.php?p_code=B1740090592\n",
      "https://www.hanbit.co.kr/store/books/look.php?p_code=B2672932319\n",
      "https://www.hanbit.co.kr/store/books/look.php?p_code=B3872657116\n",
      "https://www.hanbit.co.kr/store/books/look.php?p_code=B8226621719\n",
      "https://www.hanbit.co.kr/store/books/look.php?p_code=B9479195027\n",
      "https://www.hanbit.co.kr/store/books/look.php?p_code=B8945183661\n",
      "https://www.hanbit.co.kr/store/books/look.php?p_code=B8460934222\n",
      "https://www.hanbit.co.kr/store/books/look.php?p_code=B1191734987\n",
      "https://www.hanbit.co.kr/store/books/look.php?p_code=B2082711299\n",
      "https://www.hanbit.co.kr/store/books/look.php?p_code=B5877288702\n",
      "https://www.hanbit.co.kr/store/books/look.php?p_code=B1825116777\n",
      "https://www.hanbit.co.kr/store/books/look.php?p_code=B5937482728\n",
      "https://www.hanbit.co.kr/store/books/look.php?p_code=B8656803901\n",
      "https://www.hanbit.co.kr/store/books/look.php?p_code=B3397547488\n",
      "20\n"
     ]
    }
   ],
   "source": [
    "# 모든 링크를 절대 url로 변환하는 함수 : make_links_absolute()\n",
    "root.make_links_absolute(response.url)\n",
    "i = 0\n",
    "for a in root.cssselect('.view_box .book_tit a'):\n",
    "    url = a.get('href')\n",
    "    i += 1 \n",
    "    print(url)\n",
    "print(i)"
   ]
  },
  {
   "cell_type": "code",
   "execution_count": 22,
   "metadata": {},
   "outputs": [],
   "source": [
    "def main():\n",
    "    session = requests.Session()\n",
    "    response = session.get('http://www.hanbit.co.kr/store/books/new_book_list.html')\n",
    "    urls = scrape_list_page(response)\n",
    "    for url in urls:\n",
    "        print(url)\n",
    "        print(\"-\"*70)"
   ]
  },
  {
   "cell_type": "code",
   "execution_count": 23,
   "metadata": {},
   "outputs": [],
   "source": [
    "def scrape_list_page(response):\n",
    "    root = lxml.html.fromstring(response.content)\n",
    "    root.make_links_absolute(response.url)\n",
    "    for a in root.cssselect('.view_box .book_tit a'):\n",
    "        url = a.get(\"href\")\n",
    "        yield url"
   ]
  },
  {
   "cell_type": "code",
   "execution_count": 24,
   "metadata": {},
   "outputs": [
    {
     "name": "stdout",
     "output_type": "stream",
     "text": [
      "https://www.hanbit.co.kr/store/books/look.php?p_code=B9143267027\n",
      "----------------------------------------------------------------------\n",
      "https://www.hanbit.co.kr/store/books/look.php?p_code=B3517216657\n",
      "----------------------------------------------------------------------\n",
      "https://www.hanbit.co.kr/store/books/look.php?p_code=B4872223435\n",
      "----------------------------------------------------------------------\n",
      "https://www.hanbit.co.kr/store/books/look.php?p_code=B9279330130\n",
      "----------------------------------------------------------------------\n",
      "https://www.hanbit.co.kr/store/books/look.php?p_code=B6787201225\n",
      "----------------------------------------------------------------------\n",
      "https://www.hanbit.co.kr/store/books/look.php?p_code=B3963656224\n",
      "----------------------------------------------------------------------\n",
      "https://www.hanbit.co.kr/store/books/look.php?p_code=B1740090592\n",
      "----------------------------------------------------------------------\n",
      "https://www.hanbit.co.kr/store/books/look.php?p_code=B2672932319\n",
      "----------------------------------------------------------------------\n",
      "https://www.hanbit.co.kr/store/books/look.php?p_code=B3872657116\n",
      "----------------------------------------------------------------------\n",
      "https://www.hanbit.co.kr/store/books/look.php?p_code=B8226621719\n",
      "----------------------------------------------------------------------\n",
      "https://www.hanbit.co.kr/store/books/look.php?p_code=B9479195027\n",
      "----------------------------------------------------------------------\n",
      "https://www.hanbit.co.kr/store/books/look.php?p_code=B8945183661\n",
      "----------------------------------------------------------------------\n",
      "https://www.hanbit.co.kr/store/books/look.php?p_code=B8460934222\n",
      "----------------------------------------------------------------------\n",
      "https://www.hanbit.co.kr/store/books/look.php?p_code=B1191734987\n",
      "----------------------------------------------------------------------\n",
      "https://www.hanbit.co.kr/store/books/look.php?p_code=B2082711299\n",
      "----------------------------------------------------------------------\n",
      "https://www.hanbit.co.kr/store/books/look.php?p_code=B5877288702\n",
      "----------------------------------------------------------------------\n",
      "https://www.hanbit.co.kr/store/books/look.php?p_code=B1825116777\n",
      "----------------------------------------------------------------------\n",
      "https://www.hanbit.co.kr/store/books/look.php?p_code=B5937482728\n",
      "----------------------------------------------------------------------\n",
      "https://www.hanbit.co.kr/store/books/look.php?p_code=B8656803901\n",
      "----------------------------------------------------------------------\n",
      "https://www.hanbit.co.kr/store/books/look.php?p_code=B3397547488\n",
      "----------------------------------------------------------------------\n"
     ]
    }
   ],
   "source": [
    "if __name__ == '__main__':\n",
    "    main()"
   ]
  },
  {
   "cell_type": "code",
   "execution_count": 32,
   "metadata": {},
   "outputs": [],
   "source": [
    "def main():\n",
    "    #여러페이지 크롤링을 위해 Session() 사용\n",
    "    session = requests.Session()\n",
    "    response = session.get('http://www.hanbit.co.kr/store/books/new_book_list.html')\n",
    "    urls = scrape_list_page(response)\n",
    "    for url in urls:\n",
    "        response = session.get(url)\n",
    "        ebook = scrape_detail_page(response)\n",
    "        print(ebook)\n",
    "        break"
   ]
  },
  {
   "cell_type": "code",
   "execution_count": 33,
   "metadata": {},
   "outputs": [],
   "source": [
    "def scarpe_list_page(response):\n",
    "    root = lxml.html.fromstring(response.content) #html코드를 엘리먼트 클래스 형태로 바꿈\n",
    "    root.make_links_absolute(response.url)\n",
    "    for a in root.cssselect(' .view_box .book_tit a'):\n",
    "        url = a.get('href')\n",
    "        yield url"
   ]
  },
  {
   "cell_type": "code",
   "execution_count": 37,
   "metadata": {},
   "outputs": [],
   "source": [
    "def scrape_detail_page(response):\n",
    "    root = lxml.html.fromstring(response.content)\n",
    "    ebook = {\n",
    "        'url': response.url,\n",
    "        'title': root.cssselect('.store_product_info_box h3')[0].text_content(),\n",
    "        'price': root.cssselect('.pbr strong')[0].text_content(),\n",
    "        'content': [p.text_content()\\\n",
    "            for p in root.cssselect('#tabs_3 .hanbit_edit_view p')]\n",
    "    }\n",
    "    return ebook"
   ]
  },
  {
   "cell_type": "code",
   "execution_count": 38,
   "metadata": {},
   "outputs": [
    {
     "name": "stdout",
     "output_type": "stream",
     "text": [
      "{'url': 'https://www.hanbit.co.kr/store/books/look.php?p_code=B9143267027', 'title': '청소년 인문학 수업 - 1권', 'price': '16,650', 'content': ['', '프롤로그│학문과 삶의 접점을 이야기하는 인문학', '\\xa0', '\\r\\n\\t\\t\\t1강 르네상스 미술의 한 장면│이화진\\r\\n', '왜 알아야 할까', '1교시 ｜ 피렌체의 상인들\\xa0', '2교시 ｜ 하늘을 향한 둥근 지붕', '3교시 ｜ 다윗은 어떻게 조각되었나', '4교시 ｜ 열린 창으로 바라본 세계', '5교시 ｜ 바티칸의 영광, 교황들의 찬가', '\\xa0', '\\r\\n\\t\\t\\t2강 천문이 곧 인문이다│안나미\\r\\n', '왜 알아야 할까', '1교시 ｜ 별이 알려주는 내 운명, 점성술', '2교시 ｜ 동양의 하늘 vs. 서양의 하늘', '3교시 ｜ 불길한 별의 꼬리, 혜성', '4교시 ｜ 태양 기록의 비과학과 과학', '5교시 ｜ 죽어야 다시 태어나는 별, 초신성', '\\xa0', '\\r\\n\\t\\t\\t3강 지도를 가진 자, 세계를 제패하다│이정선\\r\\n', '왜 알아야 할까', '1교시 ｜ 고지도의 매력과 유혹', '2교시 ｜ 한눈에 보는 세계지도의 역사', '3교시 ｜ 탐험의 시작, 미지의 세계를 향하다', '4교시 ｜ 지도상 바다 명칭의 유래와 우리 바다 ‘동해’', '5교시 ｜ <대동여지도>, 조선의 네트워크를 구축하다', '\\xa0', '\\r\\n\\t\\t\\t4강 나를 찾아가는 글쓰기│최옥정\\r\\n', '왜 알아야 할까', '1교시 ｜ 말과 글이 삶을 바꾼다', '2교시 ｜ 독서, 글쓰기에 연료를 공급하는 일', '3교시 ｜ 소설가의 독서법', '4교시 ｜ 어쨌든 문장이다', '5교시 ｜ 마음을 다잡는 글쓰기의 기술', '\\xa0', '\\r\\n\\t\\t\\t5강 클래식, 문학을 만나다│나성인\\r\\n', '왜 알아야 할까', '1교시 ｜ 작곡가의 상상 속에 녹아든 괴테의 문학 : <파우스트>\\xa0', '2교시 ｜ 셰익스피어의 언어, 음악이 되다 : <한여름 밤의 꿈>', '3교시 ｜ 자유를 갈망하는 시대정신의 증언자, 빅토르 위고 : <리골레토>', '4교시 ｜ 신화의 해석, 혁명의 서막 : 오르페우스와 프로메테우스', '5교시 ｜ 바이블 인 뮤직 : 루터와 바흐의 수난곡', '\\xa0', '\\r\\n\\t\\t\\t6강 문장의 재발견│김나정\\r\\n', '왜 알아야 할까', '1교시 ｜ 벌레가 되고서야 벌레였음을 알다 : 프란츠 카프카 《변신》', '2교시 ｜ 마음도 해부가 되나요? : 나쓰메 소세키 《마음》', '3교시 ｜ 겨울 나무에서 봄 나무로 : 박완서 《나목》', '4교시 ｜ 사진사의 실수, 떠버리의 누설 : 발자크 《고리오 영감》', '5교시 ｜ 일생토록 사춘기 : 헤르만 헤세 《데미안》', '\\xa0', '\\r\\n\\t\\t\\t7강 천 년을 내다보는 혜안│민혜련\\r\\n', '왜 알아야 할까', '1교시 ｜ 암흑의 시대를 뚫고 피어난 르네상스의 빛', '2교시 ｜ 프랑스, 르네상스의 열매를 따다', '3교시 ｜ 계몽주의와 프랑스대혁명', '4교시 ｜ 신은 떠났다, 과학혁명의 도달점, 산업혁명', '5교시 ｜ 문화의 카오스, 아무도 답을 주지 않는다', '\\xa0', '\\r\\n\\t\\t\\t8강 조선의 대중문화│안나미\\r\\n', '왜 알아야 할까', '1교시 ｜ 임진왜란, 한류의 시작', '2교시 ｜ 조선시대 인어 이야기 : 유몽인의 《어우야담》', '3교시 ｜ 조선의 백과사전 : 이수광의 《지봉유설》', '4교시 ｜ 조선 최고의 식객 : 허균의 《도문대작》', '5교시 ｜ 선비, 꽃을 즐기다', '\\r\\n\\t\\t\\t\\r\\n', '\\r\\n\\t\\t\\t9강 스크린으로 부활한 천재들│최은\\r\\n', '왜 알아야 할까', '1교시 ｜ ‘작업’의 신 피카소', '2교시 ｜ 고흐가 남쪽으로 간 까닭은?', '3교시 ｜ 전쟁 중에 예술을 한다는 것 : 르누아르', '4교시 ｜ 세기말, 분열된 정신을 장식한 화가 : 클림트', '5교시 ｜ 제자, 연인 그리고 조각가 : 까미유 끌로델', '\\xa0', '\\r\\n\\t\\t\\t10강 인간의 삶과 미래 기술│이종관\\r\\n', '왜 알아야 할까', '1교시 ｜ 인공지능 그리고 윤동주', '2교시 ｜ 질문하는 인간의 내일', '3교시 ｜ 도구의 존재론과 애플의 혁신', '4교시 ｜ 일자리의 미래와 또 다른 위험', '5교시 ｜ 독일의 번영과 문화적 인간', '\\xa0', '참고문헌', '출처', '저자 소개']}\n"
     ]
    }
   ],
   "source": [
    "if __name__ == '__main__':\n",
    "    main()"
   ]
  },
  {
   "cell_type": "code",
   "execution_count": 70,
   "metadata": {},
   "outputs": [],
   "source": [
    "import requests\n",
    "import lxml.html\n",
    "import re\n",
    "import time"
   ]
  },
  {
   "cell_type": "code",
   "execution_count": 104,
   "metadata": {},
   "outputs": [],
   "source": [
    "def main():\n",
    "    # 여러 페이지에서 크롤링을 위해 Session 사용\n",
    "    session = requests.Session()  \n",
    "    # scrape_list_page() 함수를 호출해서 제너레이터를 추출\n",
    "    response = session.get('http://www.hanbit.co.kr/store/books/new_book_list.html')\n",
    "    urls = scrape_list_page(response)\n",
    "    for url in urls:\n",
    "        time.sleep(1) # 1초간 대기 (잠깐 쉬는게 필요할 수 있음)\n",
    "        response = session.get(url)  # Session을 사용해 상세 페이지를 추출\n",
    "        ebook = scrape_detail_page(response)  # 상세 페이지에서 상세 정보를 추출\n",
    "        print(ebook)  # 상세 정보 출력\n",
    "        break  #일단은 하나만 출력하도록 break를 걸어놓음"
   ]
  },
  {
   "cell_type": "code",
   "execution_count": 105,
   "metadata": {},
   "outputs": [],
   "source": [
    "def scrape_list_page(response):\n",
    "    root = lxml.html.fromstring(response.content)\n",
    "    root.make_links_absolute(response.url)\n",
    "    for a in root.cssselect('.view_box .book_tit a'):\n",
    "        url = a.get('href')\n",
    "        yield url"
   ]
  },
  {
   "cell_type": "code",
   "execution_count": 106,
   "metadata": {},
   "outputs": [],
   "source": [
    "def scrape_detail_page(response):\n",
    "    \"\"\"\n",
    "    상세 페이지의 Response에서 책 정보를 dict로 추출\n",
    "    \"\"\"\n",
    "    root = lxml.html.fromstring(response.content)\n",
    "    ebook = {\n",
    "        'url': response.url,\n",
    "        'title': root.cssselect('.store_product_info_box h3')[0].text_content(),\n",
    "        'price': root.cssselect('.pbr strong')[0].text_content(),\n",
    "        # list comprehension\n",
    "        'content': [normalize_spaces(p.text_content()) #시작부분:  p에 넣음\n",
    "            for p in root.cssselect('#tabs_3 .hanbit_edit_view p')\n",
    "            if normalize_spaces(p.text_content()) != ''] #문자열 사이의 공백이 아닌 경우 출력! \n",
    "    }\n",
    "    return ebook"
   ]
  },
  {
   "cell_type": "code",
   "execution_count": 107,
   "metadata": {},
   "outputs": [],
   "source": [
    "def normalize_spaces(s):\n",
    "    \"\"\"\n",
    "    연결된 공백을 하나의 공백으로 변경\n",
    "    \"\"\"\n",
    "    return re.sub(r'\\s+', ' ', s).strip()"
   ]
  },
  {
   "cell_type": "code",
   "execution_count": 108,
   "metadata": {},
   "outputs": [
    {
     "name": "stdout",
     "output_type": "stream",
     "text": [
      "{'url': 'https://www.hanbit.co.kr/store/books/look.php?p_code=B9143267027', 'title': '청소년 인문학 수업 - 1권', 'price': '16,650', 'content': ['프롤로그│학문과 삶의 접점을 이야기하는 인문학', '1강 르네상스 미술의 한 장면│이화진', '왜 알아야 할까', '1교시 ｜ 피렌체의 상인들', '2교시 ｜ 하늘을 향한 둥근 지붕', '3교시 ｜ 다윗은 어떻게 조각되었나', '4교시 ｜ 열린 창으로 바라본 세계', '5교시 ｜ 바티칸의 영광, 교황들의 찬가', '2강 천문이 곧 인문이다│안나미', '왜 알아야 할까', '1교시 ｜ 별이 알려주는 내 운명, 점성술', '2교시 ｜ 동양의 하늘 vs. 서양의 하늘', '3교시 ｜ 불길한 별의 꼬리, 혜성', '4교시 ｜ 태양 기록의 비과학과 과학', '5교시 ｜ 죽어야 다시 태어나는 별, 초신성', '3강 지도를 가진 자, 세계를 제패하다│이정선', '왜 알아야 할까', '1교시 ｜ 고지도의 매력과 유혹', '2교시 ｜ 한눈에 보는 세계지도의 역사', '3교시 ｜ 탐험의 시작, 미지의 세계를 향하다', '4교시 ｜ 지도상 바다 명칭의 유래와 우리 바다 ‘동해’', '5교시 ｜ <대동여지도>, 조선의 네트워크를 구축하다', '4강 나를 찾아가는 글쓰기│최옥정', '왜 알아야 할까', '1교시 ｜ 말과 글이 삶을 바꾼다', '2교시 ｜ 독서, 글쓰기에 연료를 공급하는 일', '3교시 ｜ 소설가의 독서법', '4교시 ｜ 어쨌든 문장이다', '5교시 ｜ 마음을 다잡는 글쓰기의 기술', '5강 클래식, 문학을 만나다│나성인', '왜 알아야 할까', '1교시 ｜ 작곡가의 상상 속에 녹아든 괴테의 문학 : <파우스트>', '2교시 ｜ 셰익스피어의 언어, 음악이 되다 : <한여름 밤의 꿈>', '3교시 ｜ 자유를 갈망하는 시대정신의 증언자, 빅토르 위고 : <리골레토>', '4교시 ｜ 신화의 해석, 혁명의 서막 : 오르페우스와 프로메테우스', '5교시 ｜ 바이블 인 뮤직 : 루터와 바흐의 수난곡', '6강 문장의 재발견│김나정', '왜 알아야 할까', '1교시 ｜ 벌레가 되고서야 벌레였음을 알다 : 프란츠 카프카 《변신》', '2교시 ｜ 마음도 해부가 되나요? : 나쓰메 소세키 《마음》', '3교시 ｜ 겨울 나무에서 봄 나무로 : 박완서 《나목》', '4교시 ｜ 사진사의 실수, 떠버리의 누설 : 발자크 《고리오 영감》', '5교시 ｜ 일생토록 사춘기 : 헤르만 헤세 《데미안》', '7강 천 년을 내다보는 혜안│민혜련', '왜 알아야 할까', '1교시 ｜ 암흑의 시대를 뚫고 피어난 르네상스의 빛', '2교시 ｜ 프랑스, 르네상스의 열매를 따다', '3교시 ｜ 계몽주의와 프랑스대혁명', '4교시 ｜ 신은 떠났다, 과학혁명의 도달점, 산업혁명', '5교시 ｜ 문화의 카오스, 아무도 답을 주지 않는다', '8강 조선의 대중문화│안나미', '왜 알아야 할까', '1교시 ｜ 임진왜란, 한류의 시작', '2교시 ｜ 조선시대 인어 이야기 : 유몽인의 《어우야담》', '3교시 ｜ 조선의 백과사전 : 이수광의 《지봉유설》', '4교시 ｜ 조선 최고의 식객 : 허균의 《도문대작》', '5교시 ｜ 선비, 꽃을 즐기다', '9강 스크린으로 부활한 천재들│최은', '왜 알아야 할까', '1교시 ｜ ‘작업’의 신 피카소', '2교시 ｜ 고흐가 남쪽으로 간 까닭은?', '3교시 ｜ 전쟁 중에 예술을 한다는 것 : 르누아르', '4교시 ｜ 세기말, 분열된 정신을 장식한 화가 : 클림트', '5교시 ｜ 제자, 연인 그리고 조각가 : 까미유 끌로델', '10강 인간의 삶과 미래 기술│이종관', '왜 알아야 할까', '1교시 ｜ 인공지능 그리고 윤동주', '2교시 ｜ 질문하는 인간의 내일', '3교시 ｜ 도구의 존재론과 애플의 혁신', '4교시 ｜ 일자리의 미래와 또 다른 위험', '5교시 ｜ 독일의 번영과 문화적 인간', '참고문헌', '출처', '저자 소개']}\n"
     ]
    }
   ],
   "source": [
    "if __name__ == '__main__':\n",
    "    main()"
   ]
  },
  {
   "cell_type": "markdown",
   "metadata": {},
   "source": [
    "## 고급 크롤러 - 다음 뉴스 기사 크롤링\n"
   ]
  },
  {
   "cell_type": "markdown",
   "metadata": {},
   "source": [
    "### 1. 목록페이지에서 상세페이지 링크 및 제목 추출"
   ]
  },
  {
   "cell_type": "markdown",
   "metadata": {},
   "source": [
    "pandas를 사용하면 데이터프레임 형태로 크롤링한 데이터를 저장하는 것이 용이함"
   ]
  },
  {
   "cell_type": "markdown",
   "metadata": {},
   "source": [
    "xPath이용"
   ]
  },
  {
   "cell_type": "code",
   "execution_count": 82,
   "metadata": {},
   "outputs": [],
   "source": [
    "import requests\n",
    "import lxml.html\n",
    "import pandas as pd\n",
    "import sqlite3\n",
    "from pandas.io import sql\n",
    "import os #운영체제를 다루는 함수"
   ]
  },
  {
   "cell_type": "code",
   "execution_count": 102,
   "metadata": {},
   "outputs": [],
   "source": [
    "REG_DATE = '20200902'"
   ]
  },
  {
   "cell_type": "markdown",
   "metadata": {},
   "source": [
    "URL의 ?- 부분 : 쿼리스트링\n",
    "##### list출력을 위해 li를 반복문으로 추출"
   ]
  },
  {
   "cell_type": "code",
   "execution_count": 130,
   "metadata": {},
   "outputs": [
    {
     "name": "stdout",
     "output_type": "stream",
     "text": [
      "https://v.daum.net/v/20200819230943259 RUSSIA SPACE DOGS BELKA AND STRELKA\n",
      "https://v.daum.net/v/20200819230922257 트럼프 \"오라클은 대단한 회사\"..틱톡 인수 지지\n",
      "https://v.daum.net/v/20200819230858252 RUSSIA SPACE DOGS BELKA AND STRELKA\n",
      "https://v.daum.net/v/20200819230757249 RUSSIA SPACE DOGS BELKA AND STRELKA\n",
      "https://v.daum.net/v/20200819230752248 RUSSIA SPACE DOGS BELKA AND STRELKA\n",
      "https://v.daum.net/v/20200819230732247 RUSSIA SPACE DOGS BELKA AND STRELKA\n",
      "https://v.daum.net/v/20200819230639242 한국심리학회 연차학술대회 20~22일 열려\n",
      "https://v.daum.net/v/20200819230626241 RUSSIA SPACE DOGS BELKA AND STRELKA\n",
      "https://v.daum.net/v/20200819230623240 RUSSIA SPACE DOGS BELKA AND STRELKA\n",
      "https://v.daum.net/v/20200819230557231 RUSSIA SPACE DOGS BELKA AND STRELKA\n",
      "https://v.daum.net/v/20200819230516226 RUSSIA SPACE DOGS BELKA AND STRELKA\n",
      "https://v.daum.net/v/20200819230512224 RUSSIA SPACE DOGS BELKA AND STRELKA\n",
      "https://v.daum.net/v/20200819230448221 RUSSIA SPACE DOGS BELKA AND STRELKA\n",
      "https://v.daum.net/v/20200819225027087 글로벌창업사관학교 개교..글로벌 AI기업 육성 주력\n",
      "https://v.daum.net/v/20200819225004085 배틀그라운드, 신규 무기 'MG3'·'교란 수류탄' 추가\n"
     ]
    }
   ],
   "source": [
    "response = requests.get('https://news.daum.net/breakingnews/digital?regDate={}'.format(REG_DATE))                   \n",
    "root = lxml.html.fromstring(response.content)\n",
    "i=0\n",
    "for li in root.xpath('//*[@id=\"mArticle\"]/div[3]/ul/li'): \n",
    "    a = li.xpath('div/strong/a')[0]\n",
    "    url = a.get('href')\n",
    "    print(url, a.text)"
   ]
  },
  {
   "cell_type": "markdown",
   "metadata": {},
   "source": [
    "### 2. 상세페이지 기사 내용 추출"
   ]
  },
  {
   "cell_type": "code",
   "execution_count": 176,
   "metadata": {},
   "outputs": [],
   "source": [
    "import re\n",
    "import string #사용하고 있지는 않으나, 확장된 문자열 관련 함수, string.func\n",
    "\n",
    "def get_detail(url):\n",
    "    body = []\n",
    "    punc = '[!\"#$%&\\'()*+,-./:;<=>?[\\]^_`{|}~“”·]' \n",
    "    response = requests.get(url)\n",
    "    root = lxml.html.fromstring(response.content)\n",
    "    \n",
    "    # 작성 시간 추가 !\n",
    "    t = root.xpath('//*[@id=\"cSub\"]/div/span/span[2]/span')[0] \n",
    "    print('작성 시간: {}'.format(t.text))\n",
    "    \n",
    "    for p in root.xpath('//*[@id=\"harmonyContainer\"]/section/p'): # //*[@ -> 어느위치든 상관없이 이 아이디를 갖는 태크\n",
    "        if p.text:\n",
    "            body.append(re.sub(punc,'',p.text)) # sub(1, 2, 3) 1을 찾아서 2로 바꿔라. 특수문자 제거!\n",
    "    full_body = ' '.join(body) #문자열을 공백을 사이에 두고 합침! (리스트를 스트링으로 변환)\n",
    "    return full_body"
   ]
  },
  {
   "cell_type": "code",
   "execution_count": 178,
   "metadata": {},
   "outputs": [
    {
     "name": "stdout",
     "output_type": "stream",
     "text": [
      "작성 시간: 2020.05.05. 00:01\n"
     ]
    },
    {
     "data": {
      "text/plain": [
       "'LG전자 스마트TV 리모컨 클릭 한 번에 왓챠플레이가 연결된다 왓챠와 LG전자는 LG 2019년형 스마트TV부터 스마트TV 리모컨에서 영화 버튼을 클릭하면 왓챠플레이 서비스가 바로 연동되도록 지원한다 왓챠플레이를 구독하는 고객 편의성을 강화했다 LG 신형 스마트TV를 보유한 왓챠플레이 고객은 편리하게 서비스를 이용할 수 있게 됐다 기존에도 삼성전자LG전자 스마트TV 메뉴와 유료방송 셋톱박스 등을 통해 왓챠플레이를 시청할 수 있었다 왓챠플레이 애플리케이션앱을 찾아야 하는 번거로움이 있었다 박태훈 왓챠 대표는 국내외 제조사는 물론 통신사 방송사와 서비스 협업을 논의 중이라며 왓챠플레이를 더 쉽게 접할 수 있도록 계속 협력해나갈 것이라고 말했다 왓챠플레이뿐만 아니라 웨이브 넷플릭스 디즈니플러스디즈니 등 대다수 온라인동영상서비스OTT가 스마트TV유료방송과 고객 접점을 확대하는 추세다 스마트폰태블릿PC 등 모바일은 물론 TV와 PC 등 다양한 디바이스에서 클릭 한 번에 서비스를 이용하도록 지원 접근성을 강화했다 고객 접점을 확대해 가입 유인을 늘리기 위한 전략이다 넷플릭스는 LG유플러스와 LG헬로비전 딜라이브 등 IPTV케이블TV와 서비스를 연동 쉽게 볼 수 있도록 지원한다 삼성LG 스마트TV 앱 또는 리모컨에서 넷플릭스NETFLIX 버튼 클릭 한 번에 서비스를 이용할 수 있도록 지원한다 웨이브와 CJ ENM 티빙TVING 등 국산 OTT는 물론 미국유럽 등 해외에서 서비스를 제공 중인 디즈니 역시 삼성LG전자 스마트TV에서 서비스를 제공한다 유료방송 플랫폼 차원에서 OTT와 제휴도 적극적이다 KT스카이라이프는 통합 OTT 서비스 토핑 출시 1주년을 맞아 국내 최대 애니메이션 스트리밍 플랫폼 라프텔 서비스를 추가했다 이달 초부터 라프텔을 통해 진격의 거인 소드 아트 온라인 도쿄 구울 나루토 원피스 등 인기 애니메이션을 회차별 결제 없이 월 9900원에 볼 수 있다 제공 OTT를 지속 확대할 계획이다 왓챠플레이와 웨이브는 토핑에서 유료 가입시청할 수 있다 유튜브는 무료로 서비스한다 토핑에서 고객은 원하는 OTT를 직접 선택 이용 가능하다 SK텔레콤과 KT 등 국내 통신사와 유료방송 플랫폼은 내년 국내 서비스를 준비 중인 것으로 알려진 디즈니와 서비스 제휴를 타진하고 있다 유료방송 관계자는 플랫폼 경쟁력은 콘텐츠가 좌우하고 OTT는 더 많은 고객과 접점을 필요로 한다며 현재로선 유료방송 플랫폼과 OTT가 대체재가 아닌 보완재 성격이 짙은 만큼 더 많은 협업이 이뤄질 것이라고 전망했다 박종진기자 truth@etnewscom'"
      ]
     },
     "execution_count": 178,
     "metadata": {},
     "output_type": "execute_result"
    }
   ],
   "source": [
    "get_detail('https://news.v.daum.net/v/20200505000102404') "
   ]
  },
  {
   "cell_type": "code",
   "execution_count": 179,
   "metadata": {},
   "outputs": [],
   "source": [
    "page = 1 #페이지네이션 표현\n",
    "max_page = 0\n",
    "REG_DATE = '20200902'"
   ]
  },
  {
   "cell_type": "markdown",
   "metadata": {},
   "source": [
    "url에 page = { } 추가"
   ]
  },
  {
   "cell_type": "code",
   "execution_count": 180,
   "metadata": {},
   "outputs": [
    {
     "name": "stdout",
     "output_type": "stream",
     "text": [
      "작성 시간: 2020.09.02. 14:58\n",
      "URL : https://v.daum.net/v/20200902145833654\n",
      "TITLE : '9월의 과학기술인상'에 건설기술연구원 김병석 박사\n",
      "ARTICLE : 서울연합뉴스 과학기술정보통신부와 한국연구재단이 이달의 과학기술인상 9월 수상자로 한국건설기술연구원 김병석 박사를 선정했다고 2일 밝혔다 김 박사는 수명 200년의 초고강도고내구성 슈퍼콘크리트를 개발하고 이를 이용해 세계 최초의 교량과 빌딩을 건설하는 등 실용화를 촉진 한국 건설기술의 위상을 높였다는 평가를 받았다 사진은 한국건설기술연구원 김병석 박사 202092 과학기술정보통신부 제공 재판매 및 DB 금지 photo@ynacokr\n",
      "\n",
      "\n",
      "작성 시간: 2020.09.02. 14:57\n",
      "URL : https://v.daum.net/v/20200902145740615\n",
      "TITLE : \"기업 97%, 재택근무 증가로 네트워크 보안 유지 어려워\"\n",
      "ARTICLE : 아이뉴스24 최은정 기자 최근 재택근무제 시행이 확대되면서 기업 IT네트워킹보안 책임자 97가 조직 네트워크 보안을 효과적으로 유지하는 데에 어려움을 겪고 있는 것으로 나타났다 2일 주니퍼 네트웍스는 시장조사업체 밴슨 본에 의뢰해 조사한 결과를 이 같이 발표했다 이번 조사는 미국 영국 프랑스 독일 등 9개국의 다양한 산업군에 속한 기업 IT 네트워킹보안 책임자 1천여 명을 대상으로 실시됐다 특히 대규모 재택근무가 실시되고 있는 현재 상황에서 IT팀의 업무 부담이 가중되고 있는 것으로 집계됐다 네트워크 성능 문제 전체 네트워크 업그레이드 불가능 기본적인 네트워크 유지보수 업무 등 요인으로 네트워크 보안 과제가 심화하고 있는 것이다 또한 이번 조사에서 응답자 87는 사용 중인 애플리케이션 가시성을 높이고 오탐을 줄이며 위협 대응을 빠르게 지원하는 보안 솔루션을 찾고 있다고 답했다 회사 측은 해당 요인으로 IT보안 팀에게 주어지는 업무 대비 시간이 근본적으로 부족하다는 점을 꼽았다 이 때문에 담당자들이 일일이 오탐을 찾아내기 어려울 뿐 아니라 휴먼에러가 발생할 수 있어 실제 보안위협을 신속하게 차단하기가 어렵다는 설명이다 사만다 마드리드 주니퍼네트웍스 보안 사업전략 부문 부사장은 조직 인력이 계속 분산되고 공격 또한 더욱 교묘해지고 있어 IT보안 담당자들은 새로운 과제에 직면했다며 모든 네트워크 요소들이 서로 연동돼 뛰어난 가시성을 제공하고 필요 시 즉각 대응이 가능한 커넥티드 보안 전략이 필요하다고 강조했다\n",
      "\n",
      "\n",
      "작성 시간: 2020.09.02. 14:56\n",
      "URL : https://v.daum.net/v/20200902145617557\n",
      "TITLE : 더존비즈온, 중소·중견기업 빅데이터 활용 경진대회\n",
      "ARTICLE :  이데일리 장영은 기자 더존비즈온012510은 한국정보화진흥원NIA과 함께 ‘중소중견기업의 혁신 서비스 발굴을 위한 빅데이터 활용 경진대회’를 개최한다고 2일 밝혔다 이번 경진대회는 지난 6월 문재인 대통령이 디지털 뉴딜의 첫 번째 현장 행보로 더존비즈온을 방문한 이후 디지털 뉴딜의 핵심인 디지털댐 구축의 실증적 사례를 만들고자 마련됐다  민간이 보유한 빅데이터를 활용해 중소중견기업을 위한 혁신 서비스를 발굴하고 데이터 유통 거래를 활성화하는 한편 역량 있는 데이터 사이언티스트를 육성하겠다는 취지도 담고 있다 이를 위해 경진대회 기간 동안 더존비즈온의 빅데이터 플랫폼과 데이터센터들이 보유한 양질의 데이터가 ‘중소중견기업을 위한 데이터유통플랫폼’을 통해 제공될 예정이다 더존비즈온의 데이터 유통 플랫폼은 정부의 10대 빅데이터 플랫폼 사업자 중 한 곳으로 선정됐다  활용 가능한 빅데이터는 △기업회계인사 데이터더존비즈온 △부동산 데이터빅밸류 △보험사고통계 정보한화손해보험 △교육컨설팅 정보한국생산성본부 △연구RD데이터한국산업기술진흥협회 △외감기업 데이터NICE평가정보 △소셜데이터와이즈넛 △수출입무역물류 관련 데이터한국무역정보통신 △개인회원기업회원 인력정보인크루트 △기후데이터녹색기술센터 △통계청 데이터 기반 리포트 정보선도소프트 등이다 참가자들은 평소 접하기 어려웠던 기업 경영 데이터부터 소셜 데이터에 이르는 방대한 데이터를 활용할 수 있게 된다 클라우드 기반의 빅데이터 분석도구를 활용할 수 있는 기회도 제공된다  1차 데이터 활용 아이디어 접수는 오는 22일 마감된다 이후 10월 아이디어 구현을 위한 2차 대회를 거쳐 11월 당선자 선정 및 시상이 진행될 예정이다 1차 아이디어 공모를 통과한 참가자 전원을 대상으로 실제 아이디어 구현에 필요한 빅데이터 분석도구 및 데이터에 대한 교육이 대회기간 중 제공된다 빅데이터 분석에 관심이 있는 사람이라면 누구나 개인 또는 5인 이하로 팀을 구성해 참가할 수 있으며 1등 1500만원 등 총 3000만원 규모의 상금을 제공한다 코로나 19 상황을 고려해 대회 일체의 과정은 온라인으로 진행될 예정이다 송호철 더존비즈온 플랫폼사업부문 대표는 이번 경진대회에서 발굴되는 우수 아이디어를 통해 중소중견기업 빅데이터 플랫폼에 축적된 데이터의 유통과 거래가 활성화되는 것은 물론 나아가 디지털 뉴딜 정책의 핵심인 데이터댐 생태계가 성공적으로 작동하는 데 도움을 줄 수 있을 것으로 기대한다라고 말했다 장영은 bluerain@edailycokr \n",
      "\n",
      "\n",
      "작성 시간: 2020.09.02. 14:56\n",
      "URL : https://v.daum.net/v/20200902145604545\n",
      "TITLE : 보다 정확한 '크리스퍼 유전자 가위' 나왔다..생명연 기술 개발\n",
      "ARTICLE : 한국생명공학연구원원장 김장성은 기존 크리스퍼 유전자 가위CRISPRCas12a의 표적 선택 인식 성질표적 특이성을 극대화하는 기술을 개발했다고 2일 밝혔다 향후 특정 변이 유전자 때문에 발생하는 희귀성 난치 질환 유전 질환 치료제 개발에 기여할 전망이다 한국생명공학연구원 소속 이승환 국가영장류센터 박사팀 김선욱 미래형동물자원센터 박사팀이 이동석 경북대 교수팀과 연구를 수행했다 CRISPRCas12a 시스템은 박테리아 고세균에서 발견되는 면역체계의 일종이다 표적 DNA에 결합해 이중 나선 절단을 유도한다고 알려져 있으며 생명체 유전체 교정에 보편적으로 사용되고 있다 그러나 특정 유전자를 의도치 않게 절단하는 문제 탓에 비표적 절단 이슈가 나오고 있다 연구팀은 CRISPRCas12a 구성물 가운데 특정 염기서열 말단을 치환 비표적 절단을 획기적으로 줄이는 방법을 개발했다 목표 인식 역할을 하는 가이드 RNA 말단을 DNA로 치환하는 방법을 썼다 이 경우 가이드와 표적 DNA 사이 결합 에너지에 변화를 주고 비표적 절단을 현저히 줄일 수 있다 이미 이를 사용해 다양한 유전자 타겟에서 표적 특이성이 크게 증가함을 확인했다 연구책임자인 이승환 박사는 유전자 가위의 표적 특이성이 크리스퍼 유전자 가위 구성물의 특정 염기서열 말단을 DNA로 치환하는 방법을 통해 혁신적으로 증가될 수 있다는 사실을 밝힌 것이라며 가이드 RNA를 근간으로 작동하는 다양한 유전자 가위 시스템에 적용될 수 있고 효율적 암 치료제뿐만 아니라 다양한 유전 질환 희귀성 난치 질환 등의 유전자 치료제 개발에 안전성 향상이 기대된다고 밝혔다 대전김영준기자 kyj85@etnewscom\n",
      "\n",
      "\n",
      "작성 시간: 2020.09.02. 14:54\n",
      "URL : https://v.daum.net/v/20200902145401422\n",
      "TITLE : 정부, 디지털 뉴딜 핵심 '데이터댐 사업' 본격화\n",
      "ARTICLE : 정부가 지난 7월 발표한 디지털 뉴딜의 대표 과제인 데이터 댐 프로젝트를 수행할 주요 기업을 선정하고 본격적으로 사업을 추진한다 과학기술정보통신부는 데이터 댐 7개 사업 세부과제에 역대 최대 규모인 총 4천739개 기업기관이 지원했고 이 중 2천103개 수행기관주관 1천335개 참여 768개을 첫해 지원 대상으로 확정했다고 2일 밝혔다 데이터 댐 사업은 디지털 전환을 선도하기 위해 14만여개 공공데이터를 민간이 활용할 수 있게 하는 것이 골자다  주요 AI 개발 전문기업 크라우드소싱 기업과 함께 서울대한국과학기술연구원KAIST 등 37개 대학산학협력단과 서울대병원 국립암센터 등 21개 주요 병원 등이 참여했다 한국어 말뭉치 농작물 병해충 이미지 암 질환 영상 등 텍스트 7억건 음성 6만시간 이미지 6천만건 영상 1만5천시간 등 대규모 데이터를 구축하게 된다 AI 바우처 사업은 560억원 규모로 다양한 분야의 중소벤처기업이 자사 제품이나 서비스에 AI를 도입하여 생산성 향상과 기업 경쟁력을 제고할 수 있도록 한다 AI 기술을 적용하고자 하는 기업이 AI 솔루션서비스를 제공하는 기업의 제품을 바우처를 통해 구매하는 방식이다 AI데이터 가공바우처 지원사업은 489억원 규모로 중소기업과 스타트업 등이 보유한 데이터를 AI학습용 데이터로 전환시켜 혁신적인 AI서비스 개발을 지원한다 애초 한국판 뉴딜에서 발표된 데이터 댐 사업의 일자리 기대 효과는 약 2만4천명이었지만 정부는 예상치보다 더 많은 일자리가 창출될 것으로 전망했다 핵심사업인 AI 학습용 데이터 구축사업의 참여기업들이 직접 고용과 크라우드소싱 등으로 약 2만8천 명을 제안했고 추가 과제 조정을 통해 이보다 많은 인원을 고용할 것으로 보인다 과기부는 향후 데이터 간 상호호환성 확보를 위해 데이터 표준화를 추진하고 민간 클라우드를 포함한 디지털 서비스의 공공부문 조달이 쉬워지도록 계약제도를 개선할 계획이다 올해 11월에는 AI로 인한 경제사회 전반의 패러다임 변화에 대응하기 위한 AI분야 법제도 개선 로드맵을 제시하고 이어 우리나라의 AI 윤리 기준도 정립한다 CBS노컷뉴스 김선경 기자 sunkim@cbscokr\n",
      "\n",
      "\n",
      "작성 시간: 2020.09.02. 14:53\n",
      "URL : https://v.daum.net/v/20200902145355420\n",
      "TITLE : 개보위, 가명정보 안전 활용 위한 '처리 가이드라인' 마련\n",
      "ARTICLE : 아시아경제 김흥순 기자 개인정보보호위원회는 개정된 개인정보보호법 시행에 따른 후속조치로 가명정보 처리 가이드라인가명처리편을 마련했다고 2일 밝혔다 가이드라인은 가명정보가 안전하게 활용되도록 개인정보처리자가 개인정보를 가명처리하는 방법과 절차 등의 기준을 제시했다 가명정보는 개인정보 일부를 삭제대체하는 등 가명처리를 통해 추가정보 없이는 개인을 알아볼 수 없도록 한 개인정보로 개인정보보호법 개정으로 새로 도입된 개념이다 개인정보의 하나이므로 그에 준하는 안전조치를 해야 한다 가이드라인은 개인정보처리자가 가명처리를 할 때 개인정보 처리 기본원칙을 준수하는 범위에서 전 과정을 진행하도록 했다 개인식별 가능성이 큰 정보는 삭제하거나 원래 정보로 복원할 수 없도록 처리하고 보안수준이 낮은 환경에서는 익명정보에 가깝게 처리해 식별 가능성을 낮추도록 했다 가이드라인은 또 개인정보처리자가 가명정보 처리 목적에 필요한 최소한의 정보만 처리하고 가명처리 과정에서 재식별 가능성이 있는지 확인하도록 했다 개인식별 가능성이 크지 않은 정보는 개인정보처리자가 처리 목적과 환경을 고려해 삭제암호화일반화총계처리무작위화 등 적절한 가명처리 방법을 선택할 수 있다 가명처리 절차는 사전준비가명처리적정성검토 및 추가가명처리사후관리 등 4단계를 거치도록 제시했다 더불어 가명정보 처리 시 안전성 확보조치 기준 고시를 준수하고 가명정보를원상태로 복원하는 데 필요한 추가정보는 별도 보관하는 등 재식별 방지 조치도 하도록 정했다 개인정보보호위원회는 이번 가명처리편에 이어 이달 중 가명정보 결합반출편 가이드라인도 내놓을 계획이다 박상희 개인정보보호위원회 사무처장은 가명처리편과 결합반출편 가이드라인통합본이 완성되면 데이터3법 시행을 위한 법적제도적 기반이 완비돼 가명정보 결합 등 데이터 활용이 본격적으로 추진될 것이라고 말했다 김흥순 기자 sport@asiaecokr\n",
      "\n",
      "\n",
      "작성 시간: 2020.09.02. 14:53\n",
      "URL : https://v.daum.net/v/20200902145308390\n",
      "TITLE : [인사]산업통상자원부\n",
      "ARTICLE : ◆산업통상자원부 ◇과장급 임용 △장관정책보좌관 김영근 ◇과장급 전보 △자유무역협정이행과장 윤선영\n",
      "\n",
      "\n",
      "작성 시간: 2020.09.02. 14:53\n",
      "URL : https://v.daum.net/v/20200902145307387\n",
      "TITLE : [인사]서울예대\n",
      "ARTICLE : ◆서울예대 △교학부총장 유태균\n",
      "\n",
      "\n",
      "작성 시간: 2020.09.02. 14:53\n",
      "URL : https://v.daum.net/v/20200902145304385\n",
      "TITLE : [부음]신중돈(전 중앙일보 뉴욕특파원)씨 부인상\n",
      "ARTICLE : ▲신혜정씨 별세 신중돈전 중앙일보 뉴욕특파원씨 부인상 신현정그레일 근무 현주웰스프론트 근무씨 모친상2일 삼성서울병원 발인 4일 오전 9시 0234106901\n",
      "\n",
      "\n",
      "작성 시간: 2020.09.02. 14:52\n",
      "URL : https://v.daum.net/v/20200902145256380\n",
      "TITLE : 제주 해역 상하층 뒤섞은 태풍 '바비'..\"저염분 바닷물 일시 소멸\"\n",
      "ARTICLE : 8호 태풍 바비가 중국 양쯔강 방류수로 증가했던 제주 해역의 저 염분수를 일시적으로 사라지게 한 것으로 파악됐습니다 기상청은 태풍 바비가 우리 바다에 미친 영향을 분석한 설명자료를 오늘2일 냈습니다 기상청은 바비가 북상하기 전 이어도 해양과학기지에서 측정한 바닷물 염분은 약 24psu피에스유 실용염분단위였고 표층 수온이 약 30도였지만 바비가 지나간 뒤 바닷물 염분이 8psu 증가했고 수온은 약 9도 낮아져 21도로 파악됐다고 설명됐습니다 저염분의 바닷물이 퍼지면 수산 생물의 삼투압 조절에 나쁜 영향을 주고 스트레스를 유발해 폐사할 가능성이 있습니다 기상청은 태풍 바비로 바닷물 상하층이 섞이면서 바닷물 표층 수온이 낮아지고 염분이 상승해 제주 주변 바다의 저 염분수가 소멸했다고 설명했습니다 다만 바비가 지나간 뒤 제주 해역의 수온은 다시 28도에서 29도까지 오른 것으로 파악됐습니다 기상청은 태풍 마이삭이 바비에 비해 수온이 12도 낮아진 바다를 거쳐 내륙에 상륙하기 때문에 태풍이 위력을 잃지 않고 내륙에 영향을 미칠 것으로 봤습니다 김시원 기자 siwon@kbscokr\n",
      "\n",
      "\n",
      "작성 시간: 2020.09.02. 14:51\n",
      "URL : https://v.daum.net/v/20200902145125318\n",
      "TITLE : SKT, 빅데이터 활용해 국내 관광 편의 높인다\n",
      "ARTICLE : SK텔레콤이 신한카드와 한국문화관광연구원이하 문광연과 손잡고 결제 데이터를 활용한 국내 관광 편의 증진에 나선다 SK텔레콤은 신한카드와 문광연과 문화관광 빅데이터 산업에서의 지속적인 상호 협력을 위한 업무 협약을 체결했다고 2일 밝혔다 3사는 이를 통해 기업의 빅데이터 분석 역량을 활용하는 동시에 문화관광 사업 분야에서 차별화된 전략을 수립 국내 여행 만족도 증진과 국내 경기 활성화에 나서겠다는 목표다  SK텔레콤과 신한카드는 우선 모바일 결제 빅데이터를 활용해 부산 관광객들의 ▲주요 관광지 및 방문 순서 ▲성연령에 따른 선호 관광지 ▲주요 관광지 인근 상권 등을 분석할 계획이다  문광연은 SK텔레콤과 신한카드의 분석 결과를 바탕으로 부산 관광 활성화를 위한 차별화된 전략 수립에 나선다  예를 들어 특정 관광지 근처의 상권 개발을 추진하거나 젊은 여행객 맞춤형 홍보를 시행하는 등 기존과 차별화되는 다양한 활성화 전략을 수립할 수 있다 한편 이번 협력은 지난 8월 데이터 3법 개정안 발효 후 첫번째로 진행되는 가명데이터 기반의 빅데이터 분석 작업으로 데이터 전문기관으로 지정된 금융보안원을 통해 진행된다 가명데이터는 추가 정보의 사용이나 결합 없이는 특정 개인을 알아볼 수 없게 조치한 정보를 뜻한다  SK텔레콤과 신한카드는 가명 데이터 기반 분석 작업을 통해 통계 조사의 품질이 크게 향상될 것으로 기대하며 향후 가명 데이터 결합 기반 빅데이터 분석 사업에 적극 진출할 계획이다1 SK텔레콤 장홍성 광고Data사업단장은 이번 민관 협력은 국민들의 관광 만족도를 높이는 것은 물론 지역 경제 활성화에도 이바지할 것으로 기대된다며 SK텔레콤은 앞으로도 5G AI 빅데이터 등 첨단 ICT 기술을 통해 국민들의 편의를 높일 것이라고 밝혔다 CBS노컷뉴스 김연지 기자 anckyj@cbscokr\n",
      "\n",
      "\n",
      "작성 시간: 2020.09.02. 14:51\n",
      "URL : https://v.daum.net/v/20200902145109296\n",
      "TITLE : \"카드 1개만 써도 2개 카드 혜택 받는다\" 롯데카드 세트카드 '로카'\n",
      "ARTICLE : 로카 시리즈는 △국내외 모든 가맹점에서 할인적립을 받을 수 있는 범용 혜택 카드 ‘로카’ 카드 3종과 △자주 쓰는 곳에서 더 큰 할인을 받을 수 있는 맞춤형 혜택 카드 ‘로카 포LOCA for’ 카드 5종으로 구성됐다 세트로 로카 카드 1종과 로카 포 카드 1종을 발급받으면 두 카드의 실적이 자동으로 합산된다 하나의 카드 실적만 달성해도 두 카드의 혜택을 모두 받을 수 있다 여기에 할인받은 실적도 인정해 조건 달성 문턱을 낮췄다 롯데카드는 향후 금융서비스 이용 실적도 카드 실적에 포함해 고객이 더 쉽게 혜택을 받을 수 있도록 할 계획이다 롯데카드 관계자는 본인의 소비패턴에 맞춰 카드 세트를 발급받기만 하면 어떤 카드를 쓰더라도 범용 혜택과 맞춤형 혜택 중에 더 큰 혜택을 롯데카드가 알아서 계산해 제공해준다며 소비자가 어떤 카드를 얼마나 써야 혜택을 누릴 수 있는지 계산할 필요가 없어진 것이라고 설명했다 로카 시리즈 고객은 새로운 ‘카드 매니저’ 서비스도 받을 수 있다 빅데이터 분석을 통해 개인의 소비패턴에 맞는 다양한 맞춤 정보와 팁을 제공해주고 이달에 받고 있는 카드별업종별 혜택과 실적 달성을 위해 남은 금액 세분화된 소비패턴 분석 내용도 안내받을 수 있다 롯데카드 라이프 애플리케이션 및 홈페이지 메인화면에서 이용 가능하다 로카 시리즈는 롯데카드의 새로운 브랜드 아이덴티티BI인 ‘로카’가 처음으로 적용된 새 간판 상품이다 롯데카드 관계자는 카드의 본질로 돌아가 고객에게 가장 좋은 혜택을 제공하는 ‘선 넘은 카드’가 되겠다는 의지를 담은 상품이라고 말했다 빈난새기자 binthere@sedailycom\n",
      "\n",
      "\n",
      "작성 시간: 2020.09.02. 14:50\n",
      "URL : https://v.daum.net/v/20200902145003228\n",
      "TITLE : 한상혁 \"구글 인앱결제 강제, 금지행위 소지 충분\"(상보)\n",
      "ARTICLE : 한상혁 방송통신위원장은 2일 구글의 인앱결제 강제 정책과 관련해 현재로선 사업법상 금지 행위에 해당할 소지가 충분히 있다고 말했다  한 위원장은 이날 오후 국회 과학기술방송정보통신위원회 전체회의에 출석한 자리에서 구글 인앱 강제 정책에 대해 어떻게 생각하느냐는 윤영찬 더불어민주당 의원의 질의에 이렇게 답했다 한 위원장은 특히 해석의 여지가 있는 부분은 사전에 시행령 등을 조정할 생각도 갖고 있다고 했다  최기영 과학기술정보통신부 장관도 구글이 인앱 결제를 강제할 경우 어떤 현상이 벌어지겠느냐는 윤 의원의 질문에 1차로 앱 사업자들에 부담이 될 것이고 사용자들에게 부담이 전가될 우려가 있다고 답했다 그러면서 구글에서 구체적으로 어떻게 할지 내용은 아직 없지만 그럴 가능성에 대해 고민을 하고 있다며 방통위 공정거래위원회와 협의해 대책을 만들어 가야 할 것 같다고 했다  구글은 기존 게임 앱에만 적용하던 자체 결제인앱 의무화와 30 수수료를 웹툰 음원 전자북 등 디지털 콘텐츠 전반으로 확대하는 방안을 추진 중이다 한국인터넷기업협회인기협는 지난달 24일 방송통신위원회에 구글 미국 본사와 구글코리아 유한회사에 대해 전기통신사업법 위반행위 신고서와 진정서를 제출하기도 했다 앱 마켓 사업자의 특정 결제방식 강제가 전기통신사업법상 금지행위에 해당하는지 검토해 달라는 내용이다 \n",
      "\n",
      "\n",
      "작성 시간: 2020.09.02. 14:50\n",
      "URL : https://v.daum.net/v/20200902145001225\n",
      "TITLE : 삼성전자 폴더블폰, 제2의 노트 되나\n",
      "ARTICLE : 2일 관련업계에 따르면 삼성전자가 오는 18일 정식 출시하는 Z 폴더2의 흥행 여부가 향후 폴더블폰 대중화의 분수령이 될 전망이다  삼성전자는 Z 폴드2를 시작으로 갤럭시Z를 정규 스마트폰 라인업에 추가한다 지난해 두차례 폴더블폰을 선보이면서 다양한 사용자 피드백을 적극 반영해 Z 폴드2의 완성도를 극대화한 만큼 정식 모델로 자리잡을 준비가 됐다는 설명이다  이와함께 기존 플래그십 라인업인 갤럭시S와 갤럭시노트 시리즈 개편 필요성이 대두된다 실제 폴드 시리즈에 S펜 접목이 가능해 지면 갤럭시 노트 시리즈를 대체할 것이라는 지적도 제기되고 있다  통신업계 관계자는 폴더블폰의 제품 가격 인하가 현실화 되고 기술적인 부분이 해결되면 갤럭시Z 시리즈가 새로운 삼성전자 플래그십 라인업으로 자리잡을 수 있다라고 예상했다  영국 IT 매체 테크레이더는 신제품의 플렉스 모드가 전작보다 유용하다라며 Z 폴드2는 단순한 폴더블폰이 아니라 독특하고 다재다능하며 유용한 장치로 느껴진다고 평가했다  실제 갤럭시Z 폴드2는 폴더블이 지닌 UX 차별화를 극대화했다 최대 3개의 앱을 동시에 사용할 수 있는 멀티 액티브 윈도우 플렉스 모드 등을 통해 사진 촬영 설정을 변경하거나 편집이 가능하고 유튜브 영상을 보면서 재생 속도를 조절하고 관련 영상을 찾아볼 수도 있다  CNN은 틱톡처럼 인기 있는 짧은 동영상 앱을 겨냥한 것으로 보인다라며 새 기능을 소개했다  삼성전자는 언팩 파트2 행사 말미에 수많은 플랫형 스마트폰들이 쌓아올려진 맨 위에 Z 폴드2를 올려놓고 한 시대가 끝나면 그 다음이 펼쳐진다 페어웰 플랫이라는 자막을 달아 기존 스마트폰에 작별인사를 고했다  샘모바일은 삼성은 내구성을 향상시키는 혁신 기술을 적용해 더 이상 실험용 기기가 아닌 폴더블폰 선두로서의 메시지를 전했다라며 플렉스 모드 등으로 유용한 기능들이 내장되면서 블로거 인플루언서 콘텐츠 제작자에도 활용도가 높을 것으로 보인다고 보도했다 \n",
      "\n",
      "\n",
      "작성 시간: 2020.09.02. 14:48\n",
      "URL : https://v.daum.net/v/20200902144809135\n",
      "TITLE : 정부 '비대면 바우처 사업'으로 중기 재택근무 숨통 기대\n",
      "ARTICLE : 코로나19 장기화로 기업들의 재택근무가 급증하는 가운데 정부가 비대면 서비스 바우처 사업으로 중소기업의 비대면 근무환경 구축 지원에 나서 단비 역할이 기대된다 대기업에 비해 IT 인프라가 열악한 중소기업은 돌발적인 사내 코로나 확진자 발생이나 사회적 거리두기 단계 격상 시 비대면 업무환경 전환에 즉각 대응하기 어려운 게 현실이다 중소벤처기업부는 중소기업의 업무 디지털화를 지원하는 동시에 국내 SW소프트웨어 시장 육성을 목표로 비대면 서비스 바우처 사업을 추진하고 있다 정부 디지털 뉴딜 사업의 핵심 키워드 중 하나인 비대면 산업 육성의 일환으로 올해 예산만 약 3000억 원에 달한다 중기부는 지난달 24일 서비스 공급 기업 모집을 마감했다 모집 분야는 △화상회의 △재택근무협업툴 △네트워크보안솔루션 △비대면 직무교육 등 에듀테크 △돌봄 서비스 △비대면 제도 도입 컨설팅 등 6개 분야로 분야별 50개 내외 기업을 모집 완료했다 이르면 이달 초 결정되는 최종 선정 기업은 이달 중 오픈 예정인 비대면 바우처 플랫폼에 등록돼 수요 기업들에 서비스를 제공하게 된다  수요 기업은 비대면 바우처 플랫폼에서 필요한 서비스를 신청하면 이용료의 최대 90360만원 한도를 바우처로 받을 수 있다 수요 기업의 대상은 8만 개 내외의 중소벤처기업이며 예산이 소진될 때까지 상시 모집할 계획이다 공급 서비스는 중소기업이 이용할 수 있는 국산 비대면 서비스다 예를 들어 웹케시의 경우 중견대기업공공기관 대상 자금관리 서비스인 인하우스뱅크와 브랜치는 공급 대상이 아니지만 중소기업이 주요 고객인 경리나라는 재택근무 분야 비대면 서비스에 해당된다 알서포트의 화상회의 솔루션 더존비즈온의 협업 플랫폼 파수의 문서보안 솔루션 등도 중소기업 현장에서 필요로 하는 솔루션이다 IT업계 한 관계자는 비대면 서비스 바우처 사업이 국내 중소벤처기업의 업무 디지털화를 가속화하는 촉매제 역할을 할 것으로 기대한다며 2000년대 초 정부의 중소기업 ERP전사적자원관리 지원 사업으로 국내 SW 산업이 성장 기회를 얻었듯이 이 사업이 관련 산업 발전과 비대면 서비스 경쟁력 향상으로 이어지길 바란다고 말했다 안경애기자 naturean@dtcokr\n",
      "\n",
      "\n"
     ]
    }
   ],
   "source": [
    "response = requests.get('http://news.daum.net/breakingnews/digital?page={}&regDate={}'\n",
    "                        .format(page, REG_DATE))\n",
    "root = lxml.html.fromstring(response.content)\n",
    "for li in root.xpath('//*[@id=\"mArticle\"]/div[3]/ul/li'):\n",
    "    a = li.xpath('div/strong/a')[0]\n",
    "    url = a.get('href')\n",
    "    article = get_detail(url)\n",
    "    print(f'URL : {url}')\n",
    "    print(f'TITLE : {a.text}')\n",
    "    print(f'ARTICLE : {article}')\n",
    "    print(\"\\n\")"
   ]
  },
  {
   "cell_type": "markdown",
   "metadata": {},
   "source": [
    "## 마지막 페이지"
   ]
  },
  {
   "cell_type": "code",
   "execution_count": null,
   "metadata": {},
   "outputs": [],
   "source": []
  }
 ],
 "metadata": {
  "kernelspec": {
   "display_name": "Python 3",
   "language": "python",
   "name": "python3"
  },
  "language_info": {
   "codemirror_mode": {
    "name": "ipython",
    "version": 3
   },
   "file_extension": ".py",
   "mimetype": "text/x-python",
   "name": "python",
   "nbconvert_exporter": "python",
   "pygments_lexer": "ipython3",
   "version": "3.8.3"
  }
 },
 "nbformat": 4,
 "nbformat_minor": 4
}
